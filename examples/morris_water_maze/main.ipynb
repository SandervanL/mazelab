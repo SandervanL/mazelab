{
 "cells": [
  {
   "cell_type": "code",
   "execution_count": 54,
   "metadata": {},
   "outputs": [],
   "source": [
    "import numpy as np\n",
    "\n",
    "from mazelab import ObjectDirectory\n",
    "\n",
    "from mazelab.generators import BaseGenerator\n",
    "from mazelab.generators import morris_water_maze\n",
    "\n",
    "from mazelab import DeepMindColor as color\n",
    "\n",
    "\n",
    "class Generator(BaseGenerator):\n",
    "    def make_objects(self):\n",
    "        obj_dir = ObjectDirectory(['value', 'color'])\n",
    "        obj_dir.add_object('obstacle', 1, color.obstacle, True)\n",
    "        obj_dir.add_object('free', 0, color.free, False)\n",
    "        obj_dir.add_object('platform', 2, color.goal, False)\n",
    "        \n",
    "        return obj_dir\n",
    "    \n",
    "    def __call__(self):\n",
    "        x = morris_water_maze(radius=20, platform_center=[15, 30], platform_radius=4)\n",
    "        out = x.tolist()\n",
    "        \n",
    "        for h, w in np.dstack(np.where(x == 1))[0]:\n",
    "            out[h][w] = self.obstacle\n",
    "        for h, w in np.dstack(np.where(x == 0))[0]:\n",
    "            out[h][w] = self.free\n",
    "        for h, w in np.dstack(np.where(x == 2))[0]:\n",
    "            out[h][w] = self.platform\n",
    "        \n",
    "        return out"
   ]
  },
  {
   "cell_type": "code",
   "execution_count": 55,
   "metadata": {},
   "outputs": [
    {
     "data": {
      "text/plain": [
       "array([[1, 1, 1, ..., 1, 1, 1],\n",
       "       [1, 1, 1, ..., 1, 1, 1],\n",
       "       [1, 1, 1, ..., 1, 1, 1],\n",
       "       ...,\n",
       "       [1, 1, 1, ..., 1, 1, 1],\n",
       "       [1, 1, 1, ..., 1, 1, 1],\n",
       "       [1, 1, 1, ..., 1, 1, 1]])"
      ]
     },
     "execution_count": 55,
     "metadata": {},
     "output_type": "execute_result"
    }
   ],
   "source": [
    "from mazelab import Maze\n",
    "from mazelab import Motion\n",
    "\n",
    "\n",
    "generator = Generator()\n",
    "maze = Maze(generator)\n",
    "maze.to_value()"
   ]
  },
  {
   "cell_type": "code",
   "execution_count": 56,
   "metadata": {},
   "outputs": [
    {
     "data": {
      "text/plain": [
       "Motion: \n",
       "\tnorth: [-1, 0]\n",
       "\tsouth: [1, 0]\n",
       "\twest: [0, -1]\n",
       "\teast: [0, 1]"
      ]
     },
     "execution_count": 56,
     "metadata": {},
     "output_type": "execute_result"
    }
   ],
   "source": [
    "from mazelab import Motion\n",
    "\n",
    "motion = Motion()\n",
    "motion.add('north', [-1, 0])\n",
    "motion.add('south', [1, 0])\n",
    "motion.add('west', [0, -1])\n",
    "motion.add('east', [0, 1])\n",
    "motion"
   ]
  },
  {
   "cell_type": "code",
   "execution_count": 57,
   "metadata": {},
   "outputs": [],
   "source": [
    "from mazelab import Object\n",
    "from mazelab import BaseNavigationEnv\n",
    "\n",
    "\n",
    "class Env(BaseNavigationEnv):\n",
    "    def step(self, action):\n",
    "        action_name, delta = self.motion[action]\n",
    "        \n",
    "        current_position = self.state.positions[0]  # single agent\n",
    "        new_position = [current_position[0] + delta[0], current_position[1] + delta[1]]\n",
    "        \n",
    "        valid = self.is_valid(new_position)\n",
    "        if valid:\n",
    "            self.state.positions[0] = new_position  # single agent\n",
    "            \n",
    "        if self.is_goal(new_position):\n",
    "            reward = +1\n",
    "            done = True\n",
    "        elif not valid:\n",
    "            reward = -1\n",
    "            done = False\n",
    "        else:\n",
    "            reward = -0.01\n",
    "            done = False\n",
    "            \n",
    "        info = {}\n",
    "            \n",
    "        return self.get_observation(), reward, done, info\n",
    "        \n",
    "    def reset(self):\n",
    "        self.state = self.make_state()\n",
    "        self.goal = self.make_goal()\n",
    "        \n",
    "        return self.get_observation()\n",
    "        \n",
    "    def make_state(self):\n",
    "        state = Object('state', 2, color.agent, True, [[10, 8]])\n",
    "        \n",
    "        return state\n",
    "        \n",
    "    def make_goal(self):\n",
    "        goal = Object('goal', 3, color.goal, False, [[15, 30]])\n",
    "        \n",
    "        return goal\n",
    "        \n",
    "    def is_valid(self, position):\n",
    "        nonnegative = position[0] >= 0 and position[1] >= 0\n",
    "        \n",
    "        size = maze.size\n",
    "        within_edge = position[0] < size[0] and position[1] < size[1]\n",
    "        \n",
    "        passable = not maze.to_impassable()[position[0]][position[1]]\n",
    "        \n",
    "        return nonnegative and within_edge and passable\n",
    "        \n",
    "    def is_goal(self, position):\n",
    "        out = False\n",
    "        for goal_position in self.goal.positions:\n",
    "            if position[0] == goal_position[0] and position[1] == goal_position[1]:\n",
    "                out = True\n",
    "        \n",
    "        return out\n"
   ]
  },
  {
   "cell_type": "code",
   "execution_count": 58,
   "metadata": {},
   "outputs": [
    {
     "data": {
      "text/plain": [
       "<matplotlib.image.AxesImage at 0x7f1575b6d0b8>"
      ]
     },
     "execution_count": 58,
     "metadata": {},
     "output_type": "execute_result"
    },
    {
     "data": {
      "image/png": "[encoded data removed]",
      "text/plain": [
       "<Figure size 432x288 with 1 Axes>"
      ]
     },
     "metadata": {
      "needs_background": "light"
     },
     "output_type": "display_data"
    }
   ],
   "source": [
    "import matplotlib.pyplot as plt\n",
    "\n",
    "\n",
    "env = Env(maze, motion)\n",
    "img = env.render('rgb_array')\n",
    "plt.imshow(img)"
   ]
  },
  {
   "cell_type": "code",
   "execution_count": 59,
   "metadata": {},
   "outputs": [
    {
     "name": "stdout",
     "output_type": "stream",
     "text": [
      "\u001b[33mWARN: Trying to monitor an environment which has no 'spec' set. This usually means you did not create it via 'gym.make', and is recommended only for advanced users.\u001b[0m\n"
     ]
    }
   ],
   "source": [
    "from gym.wrappers import Monitor\n",
    "from mazelab.solvers import dijkstra_solver\n",
    "\n",
    "\n",
    "actions = dijkstra_solver(np.array(env.maze.to_impassable()), env.motion, env.state.positions[0], env.goal.positions[0])\n",
    "env = Monitor(env, directory='./', force=True)\n",
    "env.reset()\n",
    "for action in actions:\n",
    "    env.step(action)\n",
    "env.close()"
   ]
  }
 ],
 "metadata": {
  "kernelspec": {
   "display_name": "Python 3",
   "language": "python",
   "name": "python3"
  },
  "language_info": {
   "codemirror_mode": {
    "name": "ipython",
    "version": 3
   },
   "file_extension": ".py",
   "mimetype": "text/x-python",
   "name": "python",
   "nbconvert_exporter": "python",
   "pygments_lexer": "ipython3",
   "version": "3.7.1"
  }
 },
 "nbformat": 4,
 "nbformat_minor": 2
}
